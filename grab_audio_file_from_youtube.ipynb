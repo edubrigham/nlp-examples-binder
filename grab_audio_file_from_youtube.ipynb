{
 "cells": [
  {
   "cell_type": "code",
   "execution_count": 2,
   "id": "af31edd2",
   "metadata": {},
   "outputs": [
    {
     "name": "stdout",
     "output_type": "stream",
     "text": [
      "Requirement already satisfied: IPython in /Users/eduardobrigham/opt/anaconda3/lib/python3.9/site-packages (7.29.0)\n",
      "Requirement already satisfied: decorator in /Users/eduardobrigham/opt/anaconda3/lib/python3.9/site-packages (from IPython) (5.1.0)\n",
      "Requirement already satisfied: jedi>=0.16 in /Users/eduardobrigham/opt/anaconda3/lib/python3.9/site-packages (from IPython) (0.18.0)\n",
      "Requirement already satisfied: backcall in /Users/eduardobrigham/opt/anaconda3/lib/python3.9/site-packages (from IPython) (0.2.0)\n",
      "Requirement already satisfied: prompt-toolkit!=3.0.0,!=3.0.1,<3.1.0,>=2.0.0 in /Users/eduardobrigham/opt/anaconda3/lib/python3.9/site-packages (from IPython) (3.0.20)\n",
      "Requirement already satisfied: appnope in /Users/eduardobrigham/opt/anaconda3/lib/python3.9/site-packages (from IPython) (0.1.2)\n",
      "Requirement already satisfied: matplotlib-inline in /Users/eduardobrigham/opt/anaconda3/lib/python3.9/site-packages (from IPython) (0.1.2)\n",
      "Requirement already satisfied: pygments in /Users/eduardobrigham/opt/anaconda3/lib/python3.9/site-packages (from IPython) (2.10.0)\n",
      "Requirement already satisfied: pexpect>4.3 in /Users/eduardobrigham/opt/anaconda3/lib/python3.9/site-packages (from IPython) (4.8.0)\n",
      "Requirement already satisfied: traitlets>=4.2 in /Users/eduardobrigham/opt/anaconda3/lib/python3.9/site-packages (from IPython) (5.3.0)\n",
      "Requirement already satisfied: setuptools>=18.5 in /Users/eduardobrigham/opt/anaconda3/lib/python3.9/site-packages (from IPython) (64.0.1)\n",
      "Requirement already satisfied: pickleshare in /Users/eduardobrigham/opt/anaconda3/lib/python3.9/site-packages (from IPython) (0.7.5)\n",
      "Requirement already satisfied: parso<0.9.0,>=0.8.0 in /Users/eduardobrigham/opt/anaconda3/lib/python3.9/site-packages (from jedi>=0.16->IPython) (0.8.2)\n",
      "Requirement already satisfied: ptyprocess>=0.5 in /Users/eduardobrigham/opt/anaconda3/lib/python3.9/site-packages (from pexpect>4.3->IPython) (0.7.0)\n",
      "Requirement already satisfied: wcwidth in /Users/eduardobrigham/opt/anaconda3/lib/python3.9/site-packages (from prompt-toolkit!=3.0.0,!=3.0.1,<3.1.0,>=2.0.0->IPython) (0.2.5)\n",
      "Collecting youtube-dl\n",
      "  Using cached youtube_dl-2021.12.17-py2.py3-none-any.whl (1.9 MB)\n",
      "Installing collected packages: youtube-dl\n",
      "Successfully installed youtube-dl-2021.12.17\n",
      "zsh:1: no matches found: *.wav\n",
      "[youtube] t0ym7XQZ-Hw: Downloading webpage\n",
      "[download] Destination: downloaded.m4a\n",
      "\u001b[K[download] 100% of 10.80MiB in 02:4687KiB/s ETA 00:001\n",
      "[ffmpeg] Correcting container in \"downloaded.m4a\"\n",
      "[ffmpeg] Destination: downloaded.wav\n",
      "Deleting original file downloaded.m4a (pass -k to keep)\n"
     ]
    }
   ],
   "source": [
    "!pip install IPython\n",
    "!pip install youtube-dl\n",
    "\n",
    "from IPython.display import YouTubeVideo\n",
    "\n",
    "\n",
    "YOUTUBE_ID = 't0ym7XQZ-Hw'\n",
    "YouTubeVideo(YOUTUBE_ID)\n",
    "\n",
    "!rm -rf *.wav\n",
    "!youtube-dl --extract-audio --audio-format wav --output \"downloaded.%(ext)s\" https://www.youtube.com/watch\\?v\\={YOUTUBE_ID}\n",
    "!ffmpeg -loglevel panic -y -i downloaded.wav -acodec pcm_s16le -ac 1 -ar 16000 {project_name}/test.wav\n"
   ]
  },
  {
   "cell_type": "code",
   "execution_count": 9,
   "id": "510a1270",
   "metadata": {},
   "outputs": [
    {
     "name": "stdout",
     "output_type": "stream",
     "text": [
      "ffmpeg version 4.3 Copyright (c) 2000-2020 the FFmpeg developers\n",
      "  built with clang version 10.0.0\n",
      "  configuration: --prefix=/Users/distiller/miniconda3/conda-bld/ffmpeg_1597180257571/_h_env_placehold_placehold_placehold_placehold_placehold_placehold_placehold_placehold_placehold_placehold_placehold_placehold_placehold_placehold_placehold_placehold_placehold_placehold_placehold --cc=x86_64-apple-darwin13.4.0-clang --disable-doc --disable-openssl --enable-avresample --enable-gnutls --enable-hardcoded-tables --enable-libfreetype --enable-libopenh264 --enable-pic --enable-pthreads --enable-shared --disable-static --enable-version3 --enable-zlib --enable-libmp3lame\n",
      "  libavutil      56. 51.100 / 56. 51.100\n",
      "  libavcodec     58. 91.100 / 58. 91.100\n",
      "  libavformat    58. 45.100 / 58. 45.100\n",
      "  libavdevice    58. 10.100 / 58. 10.100\n",
      "  libavfilter     7. 85.100 /  7. 85.100\n",
      "  libavresample   4.  0.  0 /  4.  0.  0\n",
      "  libswscale      5.  7.100 /  5.  7.100\n",
      "  libswresample   3.  7.100 /  3.  7.100\n",
      "\u001b[0;33mGuessed Channel Layout for Input Stream #0.0 : stereo\n",
      "\u001b[0mInput #0, wav, from './downloaded.wav':\n",
      "  Metadata:\n",
      "    encoder         : Lavf58.45.100\n",
      "  Duration: 00:05:41.64, bitrate: 1411 kb/s\n",
      "    Stream #0:0: Audio: pcm_s16le ([1][0][0][0] / 0x0001), 44100 Hz, stereo, s16, 1411 kb/s\n",
      "Stream mapping:\n",
      "  Stream #0:0 -> #0:0 (pcm_s16le (native) -> pcm_s16le (native))\n",
      "Press [q] to stop, [?] for help\n",
      "Output #0, wav, to './downloaded.wav.mono.wav':\n",
      "  Metadata:\n",
      "    ISFT            : Lavf58.45.100\n",
      "    Stream #0:0: Audio: pcm_s16le ([1][0][0][0] / 0x0001), 16000 Hz, mono, s16, 256 kb/s\n",
      "    Metadata:\n",
      "      encoder         : Lavc58.91.100 pcm_s16le\n",
      "size=   10676kB time=00:05:41.63 bitrate= 256.0kbits/s speed=1.09e+03x    \n",
      "video:0kB audio:10676kB subtitle:0kB other streams:0kB global headers:0kB muxing overhead: 0.000713%\n"
     ]
    }
   ],
   "source": [
    "!find . -name '*.wav' -exec ffmpeg -i '{}' -ar 16000 -ac 1 '{}.mono.wav' \\;"
   ]
  },
  {
   "cell_type": "code",
   "execution_count": null,
   "id": "bd2b08fa",
   "metadata": {},
   "outputs": [],
   "source": []
  }
 ],
 "metadata": {
  "kernelspec": {
   "display_name": "Python 3 (ipykernel)",
   "language": "python",
   "name": "python3"
  },
  "language_info": {
   "codemirror_mode": {
    "name": "ipython",
    "version": 3
   },
   "file_extension": ".py",
   "mimetype": "text/x-python",
   "name": "python",
   "nbconvert_exporter": "python",
   "pygments_lexer": "ipython3",
   "version": "3.9.7"
  }
 },
 "nbformat": 4,
 "nbformat_minor": 5
}
